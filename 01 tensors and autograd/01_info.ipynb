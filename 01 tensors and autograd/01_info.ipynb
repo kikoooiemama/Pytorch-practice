{
 "cells": [
  {
   "cell_type": "markdown",
   "metadata": {},
   "source": [
    "# Практическое задание №1 по теме \"Основные понятия и структуры PyTorch\"."
   ]
  },
  {
   "cell_type": "code",
   "execution_count": 1,
   "metadata": {
    "id": "_CNZn_3CofVO"
   },
   "outputs": [],
   "source": [
    "import torch"
   ]
  },
  {
   "cell_type": "markdown",
   "metadata": {
    "id": "QGYTKAxeofVR"
   },
   "source": [
    "### 1. Создайте случайный FloatTensor размера 3x4x5"
   ]
  },
  {
   "cell_type": "code",
   "execution_count": 2,
   "metadata": {},
   "outputs": [
    {
     "name": "stdout",
     "output_type": "stream",
     "text": [
      "torch.float32\n",
      "torch.FloatTensor\n"
     ]
    },
    {
     "data": {
      "text/plain": [
       "tensor([[[0.7548, 0.0741, 0.8563, 0.3692, 0.5082],\n",
       "         [0.1621, 0.8922, 0.7951, 0.3053, 0.2351],\n",
       "         [0.2639, 0.7812, 0.6346, 0.0438, 0.0680],\n",
       "         [0.1621, 0.0722, 0.1276, 0.0424, 0.1538]],\n",
       "\n",
       "        [[0.5848, 0.5395, 0.2786, 0.4605, 0.0967],\n",
       "         [0.0623, 0.0096, 0.1896, 0.1860, 0.1155],\n",
       "         [0.5996, 0.6664, 0.6653, 0.7234, 0.7092],\n",
       "         [0.5928, 0.6780, 0.1193, 0.2927, 0.7002]],\n",
       "\n",
       "        [[0.1878, 0.4551, 0.3368, 0.8187, 0.6328],\n",
       "         [0.6920, 0.0404, 0.0204, 0.1607, 0.1052],\n",
       "         [0.7648, 0.3784, 0.8045, 0.0189, 0.9484],\n",
       "         [0.5626, 0.2203, 0.6875, 0.9488, 0.5734]]])"
      ]
     },
     "execution_count": 2,
     "metadata": {},
     "output_type": "execute_result"
    }
   ],
   "source": [
    "a = torch.rand(3,4,5,)\n",
    "print(a.dtype)\n",
    "print(a.type())\n",
    "a"
   ]
  },
  {
   "cell_type": "markdown",
   "metadata": {
    "id": "7GV_q8DdofVV"
   },
   "source": [
    "### 2. Выведите его форму (shape)"
   ]
  },
  {
   "cell_type": "code",
   "execution_count": 3,
   "metadata": {},
   "outputs": [
    {
     "data": {
      "text/plain": [
       "torch.Size([3, 4, 5])"
      ]
     },
     "execution_count": 3,
     "metadata": {},
     "output_type": "execute_result"
    }
   ],
   "source": [
    "a.shape"
   ]
  },
  {
   "cell_type": "code",
   "execution_count": 4,
   "metadata": {},
   "outputs": [
    {
     "data": {
      "text/plain": [
       "torch.Size([3, 4, 5])"
      ]
     },
     "execution_count": 4,
     "metadata": {},
     "output_type": "execute_result"
    }
   ],
   "source": [
    "a.size()"
   ]
  },
  {
   "cell_type": "markdown",
   "metadata": {
    "id": "f1OTy65FofVX"
   },
   "source": [
    "### 3. Приведите его к форме 6х10"
   ]
  },
  {
   "cell_type": "code",
   "execution_count": 5,
   "metadata": {},
   "outputs": [
    {
     "name": "stdout",
     "output_type": "stream",
     "text": [
      "torch.Size([6, 10])\n"
     ]
    },
    {
     "data": {
      "text/plain": [
       "tensor([[0.7548, 0.0741, 0.8563, 0.3692, 0.5082, 0.1621, 0.8922, 0.7951, 0.3053,\n",
       "         0.2351],\n",
       "        [0.2639, 0.7812, 0.6346, 0.0438, 0.0680, 0.1621, 0.0722, 0.1276, 0.0424,\n",
       "         0.1538],\n",
       "        [0.5848, 0.5395, 0.2786, 0.4605, 0.0967, 0.0623, 0.0096, 0.1896, 0.1860,\n",
       "         0.1155],\n",
       "        [0.5996, 0.6664, 0.6653, 0.7234, 0.7092, 0.5928, 0.6780, 0.1193, 0.2927,\n",
       "         0.7002],\n",
       "        [0.1878, 0.4551, 0.3368, 0.8187, 0.6328, 0.6920, 0.0404, 0.0204, 0.1607,\n",
       "         0.1052],\n",
       "        [0.7648, 0.3784, 0.8045, 0.0189, 0.9484, 0.5626, 0.2203, 0.6875, 0.9488,\n",
       "         0.5734]])"
      ]
     },
     "execution_count": 5,
     "metadata": {},
     "output_type": "execute_result"
    }
   ],
   "source": [
    "a = a.reshape(6, 10)\n",
    "print(a.shape)\n",
    "a"
   ]
  },
  {
   "cell_type": "markdown",
   "metadata": {
    "id": "BEVOv9_TofVe"
   },
   "source": [
    "### 4. Создайте случайный IntTensor размера 10"
   ]
  },
  {
   "cell_type": "code",
   "execution_count": 6,
   "metadata": {},
   "outputs": [
    {
     "name": "stdout",
     "output_type": "stream",
     "text": [
      "torch.Size([10])\n"
     ]
    },
    {
     "data": {
      "text/plain": [
       "tensor([9, 6, 9, 9, 9, 6, 5, 7, 6, 2])"
      ]
     },
     "execution_count": 6,
     "metadata": {},
     "output_type": "execute_result"
    }
   ],
   "source": [
    "b = torch.randint(1, 10, size=(10,))\n",
    "print(b.shape)\n",
    "b"
   ]
  },
  {
   "cell_type": "markdown",
   "metadata": {
    "id": "TAX3DUiSa07K"
   },
   "source": [
    "### 5. Умножьте созданный FloatTensor на созданный IntTensor поэлементно"
   ]
  },
  {
   "cell_type": "code",
   "execution_count": 7,
   "metadata": {},
   "outputs": [
    {
     "name": "stdout",
     "output_type": "stream",
     "text": [
      "torch.Size([6, 10])\n"
     ]
    },
    {
     "data": {
      "text/plain": [
       "tensor([[6.7928, 0.4446, 7.7067, 3.3228, 4.5735, 0.9725, 4.4612, 5.5659, 1.8319,\n",
       "         0.4702],\n",
       "        [2.3754, 4.6869, 5.7110, 0.3940, 0.6123, 0.9728, 0.3609, 0.8931, 0.2544,\n",
       "         0.3075],\n",
       "        [5.2636, 3.2369, 2.5078, 4.1443, 0.8700, 0.3737, 0.0480, 1.3275, 1.1162,\n",
       "         0.2311],\n",
       "        [5.3961, 3.9986, 5.9879, 6.5103, 6.3827, 3.5567, 3.3901, 0.8353, 1.7562,\n",
       "         1.4004],\n",
       "        [1.6903, 2.7308, 3.0309, 7.3685, 5.6949, 4.1521, 0.2019, 0.1429, 0.9643,\n",
       "         0.2103],\n",
       "        [6.8832, 2.2706, 7.2402, 0.1701, 8.5359, 3.3755, 1.1014, 4.8128, 5.6926,\n",
       "         1.1468]])"
      ]
     },
     "execution_count": 7,
     "metadata": {},
     "output_type": "execute_result"
    }
   ],
   "source": [
    "c = a.mul(b)\n",
    "print(c.shape)\n",
    "c"
   ]
  },
  {
   "cell_type": "markdown",
   "metadata": {
    "id": "eUxdWlQZofVi"
   },
   "source": [
    "### 6. Умножьте тензор матрично на себя, чтобы результат был размерности 6x6"
   ]
  },
  {
   "cell_type": "code",
   "execution_count": 8,
   "metadata": {},
   "outputs": [
    {
     "name": "stdout",
     "output_type": "stream",
     "text": [
      "torch.Size([6, 6])\n"
     ]
    },
    {
     "data": {
      "text/plain": [
       "tensor([[193.0948,  74.4797,  84.3895, 162.5095,  94.1824, 189.1199],\n",
       "        [ 74.4797,  62.7893,  46.0830,  78.5359,  45.0634,  83.4163],\n",
       "        [ 84.3895,  46.0830,  65.6071,  93.7798,  63.7048,  84.1913],\n",
       "        [162.5095,  78.5359,  93.7798, 193.9689, 140.0680, 176.5279],\n",
       "        [ 94.1824,  45.0634,  63.7048, 140.0680, 124.5027, 110.3005],\n",
       "        [189.1199,  83.4163,  84.1913, 176.5279, 110.3005, 247.3374]])"
      ]
     },
     "execution_count": 8,
     "metadata": {},
     "output_type": "execute_result"
    }
   ],
   "source": [
    "d = torch.matmul(c, c.T)\n",
    "print(d.shape)\n",
    "d"
   ]
  },
  {
   "cell_type": "markdown",
   "metadata": {
    "id": "u3V6CsNkofVj"
   },
   "source": [
    "### 7. Посчитайте производную функции y = x**3 + z - 75t в точке (1, 0.5, 2)"
   ]
  },
  {
   "cell_type": "code",
   "execution_count": 9,
   "metadata": {},
   "outputs": [],
   "source": [
    "x = torch.tensor(1.0, requires_grad=True)\n",
    "z = torch.tensor(0.5, requires_grad=True)\n",
    "t = torch.tensor(2.0, requires_grad=True)\n",
    "\n",
    "y = x**3 + z - 75*t"
   ]
  },
  {
   "cell_type": "code",
   "execution_count": 10,
   "metadata": {},
   "outputs": [],
   "source": [
    "y.backward()"
   ]
  },
  {
   "cell_type": "code",
   "execution_count": 11,
   "metadata": {},
   "outputs": [
    {
     "name": "stdout",
     "output_type": "stream",
     "text": [
      "dy/dx(1, 0.5, 2) = 3.0\n",
      "dy/dz(1, 0.5, 2) = 1.0\n",
      "dy/dt(1, 0.5, 2) = -75.0\n"
     ]
    }
   ],
   "source": [
    "print(f\"dy/dx(1, 0.5, 2) = {x.grad}\")\n",
    "print(f\"dy/dz(1, 0.5, 2) = {z.grad}\")\n",
    "print(f\"dy/dt(1, 0.5, 2) = {t.grad}\")"
   ]
  },
  {
   "cell_type": "markdown",
   "metadata": {
    "id": "FzH6QkyxofVm"
   },
   "source": [
    "### 8. Создайте единичный тензор размера 5x6"
   ]
  },
  {
   "cell_type": "code",
   "execution_count": 12,
   "metadata": {
    "scrolled": true
   },
   "outputs": [
    {
     "name": "stdout",
     "output_type": "stream",
     "text": [
      "torch.Size([5, 6])\n"
     ]
    },
    {
     "data": {
      "text/plain": [
       "tensor([[1., 1., 1., 1., 1., 1.],\n",
       "        [1., 1., 1., 1., 1., 1.],\n",
       "        [1., 1., 1., 1., 1., 1.],\n",
       "        [1., 1., 1., 1., 1., 1.],\n",
       "        [1., 1., 1., 1., 1., 1.]])"
      ]
     },
     "execution_count": 12,
     "metadata": {},
     "output_type": "execute_result"
    }
   ],
   "source": [
    "e = torch.ones(5,6,)\n",
    "print(e.shape)\n",
    "e"
   ]
  },
  {
   "cell_type": "markdown",
   "metadata": {
    "id": "z49ttvWPofVo"
   },
   "source": [
    "### 9. Переведите его в формат numpy"
   ]
  },
  {
   "cell_type": "code",
   "execution_count": 13,
   "metadata": {},
   "outputs": [
    {
     "name": "stdout",
     "output_type": "stream",
     "text": [
      "(5, 6)\n"
     ]
    },
    {
     "data": {
      "text/plain": [
       "array([[1., 1., 1., 1., 1., 1.],\n",
       "       [1., 1., 1., 1., 1., 1.],\n",
       "       [1., 1., 1., 1., 1., 1.],\n",
       "       [1., 1., 1., 1., 1., 1.],\n",
       "       [1., 1., 1., 1., 1., 1.]], dtype=float32)"
      ]
     },
     "execution_count": 13,
     "metadata": {},
     "output_type": "execute_result"
    }
   ],
   "source": [
    "e = e.numpy()\n",
    "print(e.shape)\n",
    "e"
   ]
  },
  {
   "cell_type": "markdown",
   "metadata": {},
   "source": [
    "---"
   ]
  }
 ],
 "metadata": {
  "colab": {
   "provenance": []
  },
  "kernelspec": {
   "display_name": "Python 3 (ipykernel)",
   "language": "python",
   "name": "python3"
  },
  "language_info": {
   "codemirror_mode": {
    "name": "ipython",
    "version": 3
   },
   "file_extension": ".py",
   "mimetype": "text/x-python",
   "name": "python",
   "nbconvert_exporter": "python",
   "pygments_lexer": "ipython3",
   "version": "3.9.16"
  }
 },
 "nbformat": 4,
 "nbformat_minor": 1
}
